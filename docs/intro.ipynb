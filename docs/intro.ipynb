{
 "cells": [
  {
   "cell_type": "markdown",
   "metadata": {
    "slideshow": {
     "slide_type": "slide"
    }
   },
   "source": [
    "# Background\n",
    "\n",
    "## Sam Tomioka\n",
    "\n",
    "Director, Clinical Data Programming\n",
    "Data Science\n",
    "<br>Sunovion Pharmaceuticals\n",
    "\n"
   ]
  },
  {
   "cell_type": "markdown",
   "metadata": {
    "slideshow": {
     "slide_type": "slide"
    }
   },
   "source": [
    "## Data Science Programming Background\n",
    "* SAS $\\approx$ 20 year\n",
    "* R $\\approx$ 5 years\n",
    "* Python $\\approx$ 1 year - Still Learning!\n",
    "\n",
    "## ML/NLP Frameworks\n",
    "* caret\n",
    "* tidyverse, tidytext etc.\n",
    "* keras - R and Python\n",
    "* XGboost - R only\n",
    "* Scikit learn\n",
    "* Tensorflow - Python Only\n",
    "* genism\n",
    "* NLTK"
   ]
  },
  {
   "cell_type": "markdown",
   "metadata": {
    "slideshow": {
     "slide_type": "slide"
    }
   },
   "source": [
    "## GAFA\n",
    "- GCP $\\approx$ a few weeks\n",
    "- Google Colaboratory\n",
    "- AWS SageMaker  $\\approx$ for a few months\n",
    "\n",
    "## Visualizations\n",
    "- R Shiny\n",
    "- Ploty - R only\n",
    "- Spotfire\n",
    "- Matplotlib\n",
    "- Seaborn\n",
    "- D3 via htmlwidgets"
   ]
  },
  {
   "cell_type": "markdown",
   "metadata": {
    "slideshow": {
     "slide_type": "slide"
    }
   },
   "source": [
    "## ML projects for clinical development\n",
    "* AE - important factors\n",
    "* Dose Titration\n",
    "* Classificaiton models based on various wearable data\n",
    "* SDTM Mapping\n",
    "* Data Cleaning\n",
    "\n",
    "etc."
   ]
  },
  {
   "cell_type": "markdown",
   "metadata": {
    "slideshow": {
     "slide_type": "slide"
    }
   },
   "source": [
    "## Publications/Presentations\n",
    "\n",
    "See this [repo](https://github.com/stomioka/publications)\n",
    "\n",
    "- [Reliability and validity of the modified Toronto Clinical Neuropathy Score in diabetic sensorimotor polyneuropathy](https://www.ncbi.nlm.nih.gov/pubmed/19317818) - 2009\n",
    "- [Ranirestat for the Management of Diabetic Sensorimotor Polyneuropathy](https://www.ncbi.nlm.nih.gov/pubmed/19366965) -2009\n",
    "- [Reflections and Lessons Learned from a Recent NDA Submission Using CDISC](https://github.com/stomioka/publications/blob/master/2011_CDISC_Europe_Interchange_Reflections%20and%20Lessons%20Learned%20from%20a%20Recent%20NDA%20Submission%20Using%20CDISC%20Standards.pdf) - 2011\n",
    "- [Define.xml Content Validation - SAS Based Solution](https://github.com/stomioka/publications/blob/master/PP04.pdf) - 2012\n",
    "- [Experience in Preparing Clinical Data Submission to the FDA](https://github.com/stomioka/publications/blob/master/Data%20submission%20to%20the%20FDA20130919_st.pptx) - 2013\n",
    "- [Creation and Validation of Define-XML 2.0 using Pinnacle 21 Enterprise](https://github.com/stomioka/publications/blob/master/Creation%20of%20Define-XML%202.pptx) - 2017\n",
    "- [SDTM Mapping based on Natural Language Process and Machine Learning](https://github.com/stomioka/publications/blob/master/SDTM-ML-for_cdisc_interchange_2018-WIDE-sam-tomioka.pdf) - 2018"
   ]
  }
 ],
 "metadata": {
  "kernelspec": {
   "display_name": "Python 3",
   "language": "python",
   "name": "python3"
  },
  "language_info": {
   "codemirror_mode": {
    "name": "ipython",
    "version": 3
   },
   "file_extension": ".py",
   "mimetype": "text/x-python",
   "name": "python",
   "nbconvert_exporter": "python",
   "pygments_lexer": "ipython3",
   "version": "3.6.7"
  }
 },
 "nbformat": 4,
 "nbformat_minor": 2
}
